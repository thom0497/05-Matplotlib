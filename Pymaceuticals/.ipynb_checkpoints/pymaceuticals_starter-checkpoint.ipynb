{
 "cells": [
  {
   "cell_type": "markdown",
   "metadata": {},
   "source": [
    "## Observations and Insights "
   ]
  },
  {
   "cell_type": "markdown",
   "metadata": {},
   "source": []
  },
  {
   "cell_type": "code",
   "execution_count": 1,
   "metadata": {},
   "outputs": [],
   "source": [
    "# Dependencies and Setup\n",
    "import matplotlib.pyplot as plt\n",
    "import pandas as pd\n",
    "import scipy.stats as st\n",
    "import numpy as np\n",
    "\n",
    "# Study data files\n",
    "mouse_metadata_path = \"data/Mouse_metadata.csv\"\n",
    "study_results_path = \"data/Study_results.csv\"\n",
    "\n",
    "# Read the mouse data and the study results\n",
    "mouse_metadata = pd.read_csv(mouse_metadata_path)\n",
    "study_results = pd.read_csv(study_results_path)\n",
    "\n",
    "# Combine the data into a single dataset\n",
    "primary_merge_data = pd.merge(mouse_metadata, study_results, on=\"Mouse ID\")\n",
    "timepoints = primary_merge_data[\"Timepoint\"].value_counts()\n",
    "results_count = primary_merge_data[\"Mouse ID\"].count()\n",
    "mouse_count = primary_merge_data[\"Mouse ID\"].nunique()"
   ]
  },
  {
   "cell_type": "code",
   "execution_count": 2,
   "metadata": {},
   "outputs": [
    {
     "name": "stdout",
     "output_type": "stream",
     "text": [
      "1893\n",
      "249\n"
     ]
    }
   ],
   "source": [
    "# Checking the number of mice in the DataFrame.\n",
    "print(results_count)\n",
    "print(mouse_count)"
   ]
  },
  {
   "cell_type": "code",
   "execution_count": 18,
   "metadata": {},
   "outputs": [],
   "source": [
    "# Getting the duplicate mice by ID number that shows up for Mouse ID and Timepoint. \n"
   ]
  },
  {
   "cell_type": "code",
   "execution_count": 4,
   "metadata": {},
   "outputs": [],
   "source": [
    "# Optional: Get all the data for the duplicate mouse ID. \n"
   ]
  },
  {
   "cell_type": "code",
   "execution_count": 5,
   "metadata": {},
   "outputs": [
    {
     "data": {
      "text/html": [
       "<div>\n",
       "<style scoped>\n",
       "    .dataframe tbody tr th:only-of-type {\n",
       "        vertical-align: middle;\n",
       "    }\n",
       "\n",
       "    .dataframe tbody tr th {\n",
       "        vertical-align: top;\n",
       "    }\n",
       "\n",
       "    .dataframe thead th {\n",
       "        text-align: right;\n",
       "    }\n",
       "</style>\n",
       "<table border=\"1\" class=\"dataframe\">\n",
       "  <thead>\n",
       "    <tr style=\"text-align: right;\">\n",
       "      <th></th>\n",
       "      <th>Mouse ID</th>\n",
       "      <th>Drug Regimen</th>\n",
       "      <th>Sex</th>\n",
       "      <th>Age_months</th>\n",
       "      <th>Weight (g)</th>\n",
       "      <th>Timepoint</th>\n",
       "      <th>Tumor Volume (mm3)</th>\n",
       "      <th>Metastatic Sites</th>\n",
       "    </tr>\n",
       "  </thead>\n",
       "  <tbody>\n",
       "    <tr>\n",
       "      <td>9</td>\n",
       "      <td>k403</td>\n",
       "      <td>Ramicane</td>\n",
       "      <td>Male</td>\n",
       "      <td>21</td>\n",
       "      <td>16</td>\n",
       "      <td>45</td>\n",
       "      <td>22.050126</td>\n",
       "      <td>1</td>\n",
       "    </tr>\n",
       "    <tr>\n",
       "      <td>19</td>\n",
       "      <td>s185</td>\n",
       "      <td>Capomulin</td>\n",
       "      <td>Female</td>\n",
       "      <td>3</td>\n",
       "      <td>17</td>\n",
       "      <td>45</td>\n",
       "      <td>23.343598</td>\n",
       "      <td>1</td>\n",
       "    </tr>\n",
       "    <tr>\n",
       "      <td>29</td>\n",
       "      <td>x401</td>\n",
       "      <td>Capomulin</td>\n",
       "      <td>Female</td>\n",
       "      <td>16</td>\n",
       "      <td>15</td>\n",
       "      <td>45</td>\n",
       "      <td>28.484033</td>\n",
       "      <td>0</td>\n",
       "    </tr>\n",
       "    <tr>\n",
       "      <td>39</td>\n",
       "      <td>m601</td>\n",
       "      <td>Capomulin</td>\n",
       "      <td>Male</td>\n",
       "      <td>22</td>\n",
       "      <td>17</td>\n",
       "      <td>45</td>\n",
       "      <td>28.430964</td>\n",
       "      <td>1</td>\n",
       "    </tr>\n",
       "    <tr>\n",
       "      <td>49</td>\n",
       "      <td>g791</td>\n",
       "      <td>Ramicane</td>\n",
       "      <td>Male</td>\n",
       "      <td>11</td>\n",
       "      <td>16</td>\n",
       "      <td>45</td>\n",
       "      <td>29.128472</td>\n",
       "      <td>1</td>\n",
       "    </tr>\n",
       "    <tr>\n",
       "      <td>...</td>\n",
       "      <td>...</td>\n",
       "      <td>...</td>\n",
       "      <td>...</td>\n",
       "      <td>...</td>\n",
       "      <td>...</td>\n",
       "      <td>...</td>\n",
       "      <td>...</td>\n",
       "      <td>...</td>\n",
       "    </tr>\n",
       "    <tr>\n",
       "      <td>1859</td>\n",
       "      <td>z314</td>\n",
       "      <td>Stelasyn</td>\n",
       "      <td>Female</td>\n",
       "      <td>21</td>\n",
       "      <td>28</td>\n",
       "      <td>5</td>\n",
       "      <td>45.934712</td>\n",
       "      <td>0</td>\n",
       "    </tr>\n",
       "    <tr>\n",
       "      <td>1862</td>\n",
       "      <td>z435</td>\n",
       "      <td>Propriva</td>\n",
       "      <td>Female</td>\n",
       "      <td>12</td>\n",
       "      <td>26</td>\n",
       "      <td>10</td>\n",
       "      <td>48.710661</td>\n",
       "      <td>0</td>\n",
       "    </tr>\n",
       "    <tr>\n",
       "      <td>1872</td>\n",
       "      <td>z581</td>\n",
       "      <td>Infubinol</td>\n",
       "      <td>Female</td>\n",
       "      <td>24</td>\n",
       "      <td>25</td>\n",
       "      <td>45</td>\n",
       "      <td>62.754451</td>\n",
       "      <td>3</td>\n",
       "    </tr>\n",
       "    <tr>\n",
       "      <td>1882</td>\n",
       "      <td>z795</td>\n",
       "      <td>Naftisol</td>\n",
       "      <td>Female</td>\n",
       "      <td>13</td>\n",
       "      <td>29</td>\n",
       "      <td>45</td>\n",
       "      <td>65.741070</td>\n",
       "      <td>3</td>\n",
       "    </tr>\n",
       "    <tr>\n",
       "      <td>1892</td>\n",
       "      <td>z969</td>\n",
       "      <td>Naftisol</td>\n",
       "      <td>Male</td>\n",
       "      <td>9</td>\n",
       "      <td>30</td>\n",
       "      <td>45</td>\n",
       "      <td>73.867845</td>\n",
       "      <td>4</td>\n",
       "    </tr>\n",
       "  </tbody>\n",
       "</table>\n",
       "<p>249 rows × 8 columns</p>\n",
       "</div>"
      ],
      "text/plain": [
       "     Mouse ID Drug Regimen     Sex  Age_months  Weight (g)  Timepoint  \\\n",
       "9        k403     Ramicane    Male          21          16         45   \n",
       "19       s185    Capomulin  Female           3          17         45   \n",
       "29       x401    Capomulin  Female          16          15         45   \n",
       "39       m601    Capomulin    Male          22          17         45   \n",
       "49       g791     Ramicane    Male          11          16         45   \n",
       "...       ...          ...     ...         ...         ...        ...   \n",
       "1859     z314     Stelasyn  Female          21          28          5   \n",
       "1862     z435     Propriva  Female          12          26         10   \n",
       "1872     z581    Infubinol  Female          24          25         45   \n",
       "1882     z795     Naftisol  Female          13          29         45   \n",
       "1892     z969     Naftisol    Male           9          30         45   \n",
       "\n",
       "      Tumor Volume (mm3)  Metastatic Sites  \n",
       "9              22.050126                 1  \n",
       "19             23.343598                 1  \n",
       "29             28.484033                 0  \n",
       "39             28.430964                 1  \n",
       "49             29.128472                 1  \n",
       "...                  ...               ...  \n",
       "1859           45.934712                 0  \n",
       "1862           48.710661                 0  \n",
       "1872           62.754451                 3  \n",
       "1882           65.741070                 3  \n",
       "1892           73.867845                 4  \n",
       "\n",
       "[249 rows x 8 columns]"
      ]
     },
     "execution_count": 5,
     "metadata": {},
     "output_type": "execute_result"
    }
   ],
   "source": [
    "# Create a clean DataFrame by dropping the duplicate mouse by its ID.\n",
    "group_mice = primary_merge_data.drop_duplicates(subset='Mouse ID', keep='last')\n",
    " \n",
    "group_mice"
   ]
  },
  {
   "cell_type": "code",
   "execution_count": 6,
   "metadata": {},
   "outputs": [
    {
     "name": "stdout",
     "output_type": "stream",
     "text": [
      "Total number of mice in clean DataFrame 249\n"
     ]
    }
   ],
   "source": [
    "# Checking the number of mice in the clean DataFrame.\n",
    "print(\"Total number of mice in clean DataFrame\", group_mice['Mouse ID'].count())"
   ]
  },
  {
   "cell_type": "markdown",
   "metadata": {},
   "source": [
    "## Summary Statistics"
   ]
  },
  {
   "cell_type": "code",
   "execution_count": 7,
   "metadata": {},
   "outputs": [],
   "source": [
    "# Generate a summary statistics table of mean, median, variance, standard deviation, and SEM of the tumor volume for each regimen\n",
    "tumor_vol = group_mice.groupby(\"Drug Regimen\")\n",
    "avg_vol = round(tumor_vol[\"Tumor Volume (mm3)\"].mean(),2)\n",
    "med_vol = round(tumor_vol[\"Tumor Volume (mm3)\"].median(),2)\n",
    "var_vol = round(tumor_vol[\"Tumor Volume (mm3)\"].var(),2)\n",
    "stnd_dev = round(tumor_vol[\"Tumor Volume (mm3)\"].std(),2)\n",
    "sem_vol = round(tumor_vol[\"Tumor Volume (mm3)\"].sem(),2)\n",
    "\n",
    "sum_stat = pd.DataFrame({\n",
    "    \"Average Volume\" : avg_vol, \n",
    "    \"Median Volume\" : med_vol,\n",
    "    \"Volume Variance\" : var_vol, \n",
    "    \"Volume Std Dev\" : stnd_dev, \n",
    "    \"Volume SEM\" : sem_vol\n",
    "})\n"
   ]
  },
  {
   "cell_type": "code",
   "execution_count": 8,
   "metadata": {
    "scrolled": true
   },
   "outputs": [
    {
     "data": {
      "text/html": [
       "<div>\n",
       "<style scoped>\n",
       "    .dataframe tbody tr th:only-of-type {\n",
       "        vertical-align: middle;\n",
       "    }\n",
       "\n",
       "    .dataframe tbody tr th {\n",
       "        vertical-align: top;\n",
       "    }\n",
       "\n",
       "    .dataframe thead th {\n",
       "        text-align: right;\n",
       "    }\n",
       "</style>\n",
       "<table border=\"1\" class=\"dataframe\">\n",
       "  <thead>\n",
       "    <tr style=\"text-align: right;\">\n",
       "      <th></th>\n",
       "      <th>Average Volume</th>\n",
       "      <th>Median Volume</th>\n",
       "      <th>Volume Variance</th>\n",
       "      <th>Volume Std Dev</th>\n",
       "      <th>Volume SEM</th>\n",
       "    </tr>\n",
       "    <tr>\n",
       "      <th>Drug Regimen</th>\n",
       "      <th></th>\n",
       "      <th></th>\n",
       "      <th></th>\n",
       "      <th></th>\n",
       "      <th></th>\n",
       "    </tr>\n",
       "  </thead>\n",
       "  <tbody>\n",
       "    <tr>\n",
       "      <td>Capomulin</td>\n",
       "      <td>36.67</td>\n",
       "      <td>38.13</td>\n",
       "      <td>32.66</td>\n",
       "      <td>5.72</td>\n",
       "      <td>1.14</td>\n",
       "    </tr>\n",
       "    <tr>\n",
       "      <td>Ceftamin</td>\n",
       "      <td>57.75</td>\n",
       "      <td>59.85</td>\n",
       "      <td>69.98</td>\n",
       "      <td>8.37</td>\n",
       "      <td>1.67</td>\n",
       "    </tr>\n",
       "    <tr>\n",
       "      <td>Infubinol</td>\n",
       "      <td>58.18</td>\n",
       "      <td>60.17</td>\n",
       "      <td>74.01</td>\n",
       "      <td>8.60</td>\n",
       "      <td>1.72</td>\n",
       "    </tr>\n",
       "    <tr>\n",
       "      <td>Ketapril</td>\n",
       "      <td>62.81</td>\n",
       "      <td>64.49</td>\n",
       "      <td>98.92</td>\n",
       "      <td>9.95</td>\n",
       "      <td>1.99</td>\n",
       "    </tr>\n",
       "    <tr>\n",
       "      <td>Naftisol</td>\n",
       "      <td>61.21</td>\n",
       "      <td>63.28</td>\n",
       "      <td>106.03</td>\n",
       "      <td>10.30</td>\n",
       "      <td>2.06</td>\n",
       "    </tr>\n",
       "    <tr>\n",
       "      <td>Placebo</td>\n",
       "      <td>60.51</td>\n",
       "      <td>62.03</td>\n",
       "      <td>78.76</td>\n",
       "      <td>8.87</td>\n",
       "      <td>1.77</td>\n",
       "    </tr>\n",
       "    <tr>\n",
       "      <td>Propriva</td>\n",
       "      <td>56.74</td>\n",
       "      <td>55.84</td>\n",
       "      <td>69.35</td>\n",
       "      <td>8.33</td>\n",
       "      <td>1.67</td>\n",
       "    </tr>\n",
       "    <tr>\n",
       "      <td>Ramicane</td>\n",
       "      <td>36.19</td>\n",
       "      <td>36.56</td>\n",
       "      <td>32.17</td>\n",
       "      <td>5.67</td>\n",
       "      <td>1.13</td>\n",
       "    </tr>\n",
       "    <tr>\n",
       "      <td>Stelasyn</td>\n",
       "      <td>61.00</td>\n",
       "      <td>62.19</td>\n",
       "      <td>90.33</td>\n",
       "      <td>9.50</td>\n",
       "      <td>1.94</td>\n",
       "    </tr>\n",
       "    <tr>\n",
       "      <td>Zoniferol</td>\n",
       "      <td>59.18</td>\n",
       "      <td>61.84</td>\n",
       "      <td>76.86</td>\n",
       "      <td>8.77</td>\n",
       "      <td>1.75</td>\n",
       "    </tr>\n",
       "  </tbody>\n",
       "</table>\n",
       "</div>"
      ],
      "text/plain": [
       "              Average Volume  Median Volume  Volume Variance  Volume Std Dev  \\\n",
       "Drug Regimen                                                                   \n",
       "Capomulin              36.67          38.13            32.66            5.72   \n",
       "Ceftamin               57.75          59.85            69.98            8.37   \n",
       "Infubinol              58.18          60.17            74.01            8.60   \n",
       "Ketapril               62.81          64.49            98.92            9.95   \n",
       "Naftisol               61.21          63.28           106.03           10.30   \n",
       "Placebo                60.51          62.03            78.76            8.87   \n",
       "Propriva               56.74          55.84            69.35            8.33   \n",
       "Ramicane               36.19          36.56            32.17            5.67   \n",
       "Stelasyn               61.00          62.19            90.33            9.50   \n",
       "Zoniferol              59.18          61.84            76.86            8.77   \n",
       "\n",
       "              Volume SEM  \n",
       "Drug Regimen              \n",
       "Capomulin           1.14  \n",
       "Ceftamin            1.67  \n",
       "Infubinol           1.72  \n",
       "Ketapril            1.99  \n",
       "Naftisol            2.06  \n",
       "Placebo             1.77  \n",
       "Propriva            1.67  \n",
       "Ramicane            1.13  \n",
       "Stelasyn            1.94  \n",
       "Zoniferol           1.75  "
      ]
     },
     "execution_count": 8,
     "metadata": {},
     "output_type": "execute_result"
    }
   ],
   "source": [
    "# Generate a summary statistics table of mean, median, variance, standard deviation, and SEM of the tumor volume for each regimen\n",
    "sum_stat"
   ]
  },
  {
   "cell_type": "markdown",
   "metadata": {},
   "source": [
    "## Bar Plots"
   ]
  },
  {
   "cell_type": "code",
   "execution_count": 9,
   "metadata": {},
   "outputs": [
    {
     "data": {
      "image/png": "[encoded data removed]",
      "text/plain": [
       "<Figure size 576x360 with 1 Axes>"
      ]
     },
     "metadata": {
      "needs_background": "light"
     },
     "output_type": "display_data"
    }
   ],
   "source": [
    "# Generate a bar plot showing the number of mice per time point for each treatment throughout the course of the study using pandas.\n",
    "combined_bar_data = primary_merge_data.groupby(\"Drug Regimen\")\n",
    "\n",
    "pandas_bar_data = combined_bar_data[\"Timepoint\"].count().sort_values(ascending = False)\n",
    "x_axis = np.arange(len(pandas_bar_data))\n",
    "tick = [value for value in x_axis]\n",
    "plt.figure(figsize=(8,5))\n",
    "plt.bar(x_axis, pandas_bar_data, color=\"green\",width = .5)\n",
    "plt.xticks(tick, pandas_bar_data.index, rotation=\"vertical\")\n",
    "plt.title(\"Drug Regimen Data Points\")\n",
    "plt.xlabel(\"Drugs\")\n",
    "plt.ylabel(\"Data Points\")\n",
    "plt.show()"
   ]
  },
  {
   "cell_type": "code",
   "execution_count": 10,
   "metadata": {},
   "outputs": [
    {
     "data": {
      "image/png": "[encoded data removed]",
      "text/plain": [
       "<Figure size 576x360 with 1 Axes>"
      ]
     },
     "metadata": {
      "needs_background": "light"
     },
     "output_type": "display_data"
    }
   ],
   "source": [
    "# Generate a bar plot showing the number of mice per time point for each treatment throughout the course of the study using pyplot.\n",
    "drug_grouped = primary_merge_data.groupby(\"Drug Regimen\")\n",
    "\n",
    "\n",
    "bar_chart_data = drug_grouped[\"Timepoint\"].count().sort_values(ascending = False)\n",
    "bar_chart = bar_chart_data.plot(kind = \"bar\", color = \"blue\", figsize = (8,5))\n",
    "bar_chart.set_title(\"Datapoints by Drug\")\n",
    "bar_chart.set_xlabel(\"Drug\")\n",
    "bar_chart.set_ylabel(\"Number of Data Points\")\n",
    "plt.show()"
   ]
  },
  {
   "cell_type": "markdown",
   "metadata": {},
   "source": [
    "## Pie Plots"
   ]
  },
  {
   "cell_type": "code",
   "execution_count": 11,
   "metadata": {},
   "outputs": [
    {
     "data": {
      "image/png": "[encoded data removed]",
      "text/plain": [
       "<Figure size 576x360 with 1 Axes>"
      ]
     },
     "metadata": {},
     "output_type": "display_data"
    }
   ],
   "source": [
    "# Generate a pie plot showing the distribution of female versus male mice using pandas\n",
    "gender_group = primary_merge_data.groupby(\"Sex\")\n",
    "pie_data = gender_group['Sex'].count()\n",
    "pie_chart = pie_data.plot.pie(subplots=True, autopct='%.2f', figsize=(8,5))\n"
   ]
  },
  {
   "cell_type": "code",
   "execution_count": 12,
   "metadata": {},
   "outputs": [
    {
     "data": {
      "image/png": "[encoded data removed]",
      "text/plain": [
       "<Figure size 432x288 with 1 Axes>"
      ]
     },
     "metadata": {},
     "output_type": "display_data"
    }
   ],
   "source": [
    "# Generate a pie plot showing the distribution of female versus male mice using pyplot\n",
    "gender_group = primary_merge_data.groupby(\"Sex\")\n",
    "\n",
    "pie_data = gender_group['Sex'].count()\n",
    "labels =[\"Female\", \"Male\"]\n",
    "plt.pie(pie_data, labels=labels, autopct='%.2f')\n",
    "plt.show()"
   ]
  },
  {
   "cell_type": "markdown",
   "metadata": {},
   "source": [
    "## Quartiles, Outliers and Boxplots"
   ]
  },
  {
   "cell_type": "code",
   "execution_count": 19,
   "metadata": {},
   "outputs": [],
   "source": [
    "# Calculate the final tumor volume of each mouse across four of the most promising treatment regimens. Calculate the IQR and quantitatively determine if there are any potential outliers. \n",
    "\n",
    "Final_Tumor_Size = group_mice.drop_duplicates(subset = (\"Mouse ID\"), keep = \"last\")\n",
    "Final_Tumor_by_drug = Final_Tumor_Size[[\"Mouse ID\", \"Drug Regimen\", \"Tumor Volume (mm3)\"]]\n",
    "Final_Tumor_Size_Capomulin = Final_Tumor_by_drug.loc[Final_Tumor_by_drug[\"Drug Regimen\"] == \"Capomulin\"]\n",
    "Final_Tumor_Size_Ramicane = Final_Tumor_by_drug.loc[Final_Tumor_by_drug[\"Drug Regimen\"] == \"Ramicane\"]\n",
    "Final_Tumor_Size_Infubinol = Final_Tumor_by_drug.loc[Final_Tumor_by_drug[\"Drug Regimen\"] == \"Infubinol\"]\n",
    "Final_Tumor_Size_Ceftamin = Final_Tumor_by_drug.loc[Final_Tumor_by_drug[\"Drug Regimen\"] == \"Ceftamin\"]\n",
    "\n"
   ]
  },
  {
   "cell_type": "code",
   "execution_count": 23,
   "metadata": {},
   "outputs": [
    {
     "data": {
      "text/plain": [
       "<matplotlib.axes._subplots.AxesSubplot at 0x1c477a6b048>"
      ]
     },
     "execution_count": 23,
     "metadata": {},
     "output_type": "execute_result"
    },
    {
     "data": {
      "image/png": "[encoded data removed]",
      "text/plain": [
       "<Figure size 432x288 with 1 Axes>"
      ]
     },
     "metadata": {
      "needs_background": "light"
     },
     "output_type": "display_data"
    }
   ],
   "source": [
    "# Generate a box plot of the final tumor volume of each mouse across four regimens of interest\n",
    "box_plot_df = pd.DataFrame({\"Capomulin\" : Final_Tumor_Size_Capomulin[\"Tumor Volume (mm3)\"],\n",
    "                            \"Ramicane\" : Final_Tumor_Size_Ramicane[\"Tumor Volume (mm3)\"],\n",
    "                           \"Infubinol\" : Final_Tumor_Size_Infubinol[\"Tumor Volume (mm3)\"],\n",
    "                        \"Ceftamin\" : Final_Tumor_Size_Ceftamin[\"Tumor Volume (mm3)\"]})\n",
    "box_plot_df.boxplot()"
   ]
  },
  {
   "cell_type": "markdown",
   "metadata": {},
   "source": [
    "## Line and Scatter Plots"
   ]
  },
  {
   "cell_type": "code",
   "execution_count": null,
   "metadata": {},
   "outputs": [],
   "source": [
    "# Generate a line plot of time point versus tumor volume for a mouse treated with Capomulin\n"
   ]
  },
  {
   "cell_type": "code",
   "execution_count": null,
   "metadata": {},
   "outputs": [],
   "source": [
    "# Generate a scatter plot of mouse weight versus average tumor volume for the Capomulin regimen\n",
    "\n"
   ]
  },
  {
   "cell_type": "markdown",
   "metadata": {},
   "source": [
    "## Correlation and Regression"
   ]
  },
  {
   "cell_type": "code",
   "execution_count": null,
   "metadata": {},
   "outputs": [],
   "source": [
    "# Calculate the correlation coefficient and linear regression model \n",
    "# for mouse weight and average tumor volume for the Capomulin regimen\n"
   ]
  },
  {
   "cell_type": "code",
   "execution_count": null,
   "metadata": {},
   "outputs": [],
   "source": []
  }
 ],
 "metadata": {
  "anaconda-cloud": {},
  "kernelspec": {
   "display_name": "Python 3",
   "language": "python",
   "name": "python3"
  },
  "language_info": {
   "codemirror_mode": {
    "name": "ipython",
    "version": 3
   },
   "file_extension": ".py",
   "mimetype": "text/x-python",
   "name": "python",
   "nbconvert_exporter": "python",
   "pygments_lexer": "ipython3",
   "version": "3.7.4"
  }
 },
 "nbformat": 4,
 "nbformat_minor": 2
}
